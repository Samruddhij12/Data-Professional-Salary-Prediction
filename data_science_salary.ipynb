{
 "cells": [
  {
   "cell_type": "code",
   "execution_count": 67,
   "id": "2e07711f-d91e-4b41-9e4c-c2ffe12e0927",
   "metadata": {},
   "outputs": [],
   "source": [
    "import pandas as pd\n",
    "import numpy as np\n",
    "import seaborn as sns \n",
    "import matplotlib.pyplot as plt\n",
    "from sklearn.preprocessing import StandardScaler, OneHotEncoder\n",
    "from sklearn.compose import ColumnTransformer\n",
    "from sklearn.model_selection import train_test_split"
   ]
  },
  {
   "cell_type": "code",
   "execution_count": 7,
   "id": "1ee0db8f-57af-4db9-bcd5-dfa951ac4cdd",
   "metadata": {},
   "outputs": [
    {
     "data": {
      "text/html": [
       "<div>\n",
       "<style scoped>\n",
       "    .dataframe tbody tr th:only-of-type {\n",
       "        vertical-align: middle;\n",
       "    }\n",
       "\n",
       "    .dataframe tbody tr th {\n",
       "        vertical-align: top;\n",
       "    }\n",
       "\n",
       "    .dataframe thead th {\n",
       "        text-align: right;\n",
       "    }\n",
       "</style>\n",
       "<table border=\"1\" class=\"dataframe\">\n",
       "  <thead>\n",
       "    <tr style=\"text-align: right;\">\n",
       "      <th></th>\n",
       "      <th>Unnamed: 0</th>\n",
       "      <th>Company Name</th>\n",
       "      <th>Job Title</th>\n",
       "      <th>Salaries Reported</th>\n",
       "      <th>Location</th>\n",
       "      <th>Salary</th>\n",
       "    </tr>\n",
       "  </thead>\n",
       "  <tbody>\n",
       "    <tr>\n",
       "      <th>0</th>\n",
       "      <td>0</td>\n",
       "      <td>Mu Sigma</td>\n",
       "      <td>Data Scientist</td>\n",
       "      <td>105</td>\n",
       "      <td>Bangalore</td>\n",
       "      <td>648573.0</td>\n",
       "    </tr>\n",
       "    <tr>\n",
       "      <th>1</th>\n",
       "      <td>1</td>\n",
       "      <td>IBM</td>\n",
       "      <td>Data Scientist</td>\n",
       "      <td>95</td>\n",
       "      <td>Bangalore</td>\n",
       "      <td>1191950.0</td>\n",
       "    </tr>\n",
       "    <tr>\n",
       "      <th>2</th>\n",
       "      <td>2</td>\n",
       "      <td>Tata Consultancy Services</td>\n",
       "      <td>Data Scientist</td>\n",
       "      <td>66</td>\n",
       "      <td>Bangalore</td>\n",
       "      <td>836874.0</td>\n",
       "    </tr>\n",
       "  </tbody>\n",
       "</table>\n",
       "</div>"
      ],
      "text/plain": [
       "   Unnamed: 0               Company Name       Job Title  Salaries Reported  \\\n",
       "0           0                   Mu Sigma  Data Scientist                105   \n",
       "1           1                        IBM  Data Scientist                 95   \n",
       "2           2  Tata Consultancy Services  Data Scientist                 66   \n",
       "\n",
       "    Location     Salary  \n",
       "0  Bangalore   648573.0  \n",
       "1  Bangalore  1191950.0  \n",
       "2  Bangalore   836874.0  "
      ]
     },
     "execution_count": 7,
     "metadata": {},
     "output_type": "execute_result"
    }
   ],
   "source": [
    "data = pd.read_csv(r\"C:\\Users\\hp\\Desktop\\data science learning\\data_science_salary\\data\\Partially Cleaned Salary Dataset.csv\")\n",
    "data.head(3)"
   ]
  },
  {
   "cell_type": "code",
   "execution_count": 9,
   "id": "011ee4d4-e70d-4130-ae53-da62ecb81f7a",
   "metadata": {},
   "outputs": [
    {
     "data": {
      "text/plain": [
       "<bound method DataFrame.info of       Unnamed: 0               Company Name  \\\n",
       "0              0                   Mu Sigma   \n",
       "1              1                        IBM   \n",
       "2              2  Tata Consultancy Services   \n",
       "3              3           Impact Analytics   \n",
       "4              4                  Accenture   \n",
       "...          ...                        ...   \n",
       "4334        4339                    TaiyōAI   \n",
       "4335        4340    Decimal Point Analytics   \n",
       "4336        4341                     MyWays   \n",
       "4337        4342  Market Pulse Technologies   \n",
       "4338        4343                    vPhrase   \n",
       "\n",
       "                                 Job Title  Salaries Reported   Location  \\\n",
       "0                           Data Scientist                105  Bangalore   \n",
       "1                           Data Scientist                 95  Bangalore   \n",
       "2                           Data Scientist                 66  Bangalore   \n",
       "3                           Data Scientist                 40  Bangalore   \n",
       "4                           Data Scientist                 32  Bangalore   \n",
       "...                                    ...                ...        ...   \n",
       "4334            Machine Learning Scientist                  1     Mumbai   \n",
       "4335            Machine Learning Developer                  1     Mumbai   \n",
       "4336            Machine Learning Developer                  1     Mumbai   \n",
       "4337  Software Engineer - Machine Learning                  1     Mumbai   \n",
       "4338             Machine Learning Engineer                  1     Mumbai   \n",
       "\n",
       "         Salary  \n",
       "0      648573.0  \n",
       "1     1191950.0  \n",
       "2      836874.0  \n",
       "3      669578.0  \n",
       "4      944110.0  \n",
       "...         ...  \n",
       "4334    62160.0  \n",
       "4335   751286.0  \n",
       "4336   410952.0  \n",
       "4337  1612324.0  \n",
       "4338   939843.0  \n",
       "\n",
       "[4339 rows x 6 columns]>"
      ]
     },
     "execution_count": 9,
     "metadata": {},
     "output_type": "execute_result"
    }
   ],
   "source": [
    "data.info"
   ]
  },
  {
   "cell_type": "code",
   "execution_count": 11,
   "id": "990b1e66-0354-4a5c-bd75-82a85b8c6810",
   "metadata": {},
   "outputs": [
    {
     "data": {
      "text/plain": [
       "<bound method NDFrame.describe of       Unnamed: 0               Company Name  \\\n",
       "0              0                   Mu Sigma   \n",
       "1              1                        IBM   \n",
       "2              2  Tata Consultancy Services   \n",
       "3              3           Impact Analytics   \n",
       "4              4                  Accenture   \n",
       "...          ...                        ...   \n",
       "4334        4339                    TaiyōAI   \n",
       "4335        4340    Decimal Point Analytics   \n",
       "4336        4341                     MyWays   \n",
       "4337        4342  Market Pulse Technologies   \n",
       "4338        4343                    vPhrase   \n",
       "\n",
       "                                 Job Title  Salaries Reported   Location  \\\n",
       "0                           Data Scientist                105  Bangalore   \n",
       "1                           Data Scientist                 95  Bangalore   \n",
       "2                           Data Scientist                 66  Bangalore   \n",
       "3                           Data Scientist                 40  Bangalore   \n",
       "4                           Data Scientist                 32  Bangalore   \n",
       "...                                    ...                ...        ...   \n",
       "4334            Machine Learning Scientist                  1     Mumbai   \n",
       "4335            Machine Learning Developer                  1     Mumbai   \n",
       "4336            Machine Learning Developer                  1     Mumbai   \n",
       "4337  Software Engineer - Machine Learning                  1     Mumbai   \n",
       "4338             Machine Learning Engineer                  1     Mumbai   \n",
       "\n",
       "         Salary  \n",
       "0      648573.0  \n",
       "1     1191950.0  \n",
       "2      836874.0  \n",
       "3      669578.0  \n",
       "4      944110.0  \n",
       "...         ...  \n",
       "4334    62160.0  \n",
       "4335   751286.0  \n",
       "4336   410952.0  \n",
       "4337  1612324.0  \n",
       "4338   939843.0  \n",
       "\n",
       "[4339 rows x 6 columns]>"
      ]
     },
     "execution_count": 11,
     "metadata": {},
     "output_type": "execute_result"
    }
   ],
   "source": [
    "data.describe"
   ]
  },
  {
   "cell_type": "code",
   "execution_count": 13,
   "id": "4975e80b-ec3f-4c82-b23b-2005c6df04df",
   "metadata": {},
   "outputs": [
    {
     "data": {
      "text/plain": [
       "Unnamed: 0           0\n",
       "Company Name         0\n",
       "Job Title            0\n",
       "Salaries Reported    0\n",
       "Location             0\n",
       "Salary               0\n",
       "dtype: int64"
      ]
     },
     "execution_count": 13,
     "metadata": {},
     "output_type": "execute_result"
    }
   ],
   "source": [
    "data.isnull().sum()"
   ]
  },
  {
   "cell_type": "code",
   "execution_count": 15,
   "id": "6fc01a1a-b750-4e36-afc7-362b7185f025",
   "metadata": {},
   "outputs": [
    {
     "data": {
      "image/png": "[encoded data removed]",
      "text/plain": [
       "<Figure size 640x480 with 1 Axes>"
      ]
     },
     "metadata": {},
     "output_type": "display_data"
    }
   ],
   "source": [
    "sns.boxplot(x=\"Salary\", data = data)\n",
    "plt.show()"
   ]
  },
  {
   "cell_type": "code",
   "execution_count": 19,
   "id": "25c795a2-d0c1-4d40-8fcd-fed9b86a928b",
   "metadata": {},
   "outputs": [],
   "source": [
    "q1 = data['Salary'].quantile(0.25)\n",
    "q3 = data['Salary'].quantile(0.75)\n",
    "iqr = q3 - q1\n",
    "min_r = q1 - (1.5 * iqr)\n",
    "max_r = q3 + (1.5 * iqr)"
   ]
  },
  {
   "cell_type": "code",
   "execution_count": 21,
   "id": "0f92845c-8f21-41d3-870d-4670b3caffd7",
   "metadata": {},
   "outputs": [
    {
     "data": {
      "text/html": [
       "<div>\n",
       "<style scoped>\n",
       "    .dataframe tbody tr th:only-of-type {\n",
       "        vertical-align: middle;\n",
       "    }\n",
       "\n",
       "    .dataframe tbody tr th {\n",
       "        vertical-align: top;\n",
       "    }\n",
       "\n",
       "    .dataframe thead th {\n",
       "        text-align: right;\n",
       "    }\n",
       "</style>\n",
       "<table border=\"1\" class=\"dataframe\">\n",
       "  <thead>\n",
       "    <tr style=\"text-align: right;\">\n",
       "      <th></th>\n",
       "      <th>Unnamed: 0</th>\n",
       "      <th>Company Name</th>\n",
       "      <th>Job Title</th>\n",
       "      <th>Salaries Reported</th>\n",
       "      <th>Location</th>\n",
       "      <th>Salary</th>\n",
       "    </tr>\n",
       "  </thead>\n",
       "  <tbody>\n",
       "    <tr>\n",
       "      <th>0</th>\n",
       "      <td>0</td>\n",
       "      <td>Mu Sigma</td>\n",
       "      <td>Data Scientist</td>\n",
       "      <td>105</td>\n",
       "      <td>Bangalore</td>\n",
       "      <td>648573.0</td>\n",
       "    </tr>\n",
       "    <tr>\n",
       "      <th>1</th>\n",
       "      <td>1</td>\n",
       "      <td>IBM</td>\n",
       "      <td>Data Scientist</td>\n",
       "      <td>95</td>\n",
       "      <td>Bangalore</td>\n",
       "      <td>1191950.0</td>\n",
       "    </tr>\n",
       "    <tr>\n",
       "      <th>2</th>\n",
       "      <td>2</td>\n",
       "      <td>Tata Consultancy Services</td>\n",
       "      <td>Data Scientist</td>\n",
       "      <td>66</td>\n",
       "      <td>Bangalore</td>\n",
       "      <td>836874.0</td>\n",
       "    </tr>\n",
       "  </tbody>\n",
       "</table>\n",
       "</div>"
      ],
      "text/plain": [
       "   Unnamed: 0               Company Name       Job Title  Salaries Reported  \\\n",
       "0           0                   Mu Sigma  Data Scientist                105   \n",
       "1           1                        IBM  Data Scientist                 95   \n",
       "2           2  Tata Consultancy Services  Data Scientist                 66   \n",
       "\n",
       "    Location     Salary  \n",
       "0  Bangalore   648573.0  \n",
       "1  Bangalore  1191950.0  \n",
       "2  Bangalore   836874.0  "
      ]
     },
     "execution_count": 21,
     "metadata": {},
     "output_type": "execute_result"
    }
   ],
   "source": [
    "data1 = data[data['Salary'] <= max_r]\n",
    "data1.head(3)"
   ]
  },
  {
   "cell_type": "code",
   "execution_count": 23,
   "id": "99eb3116-6e5a-4b14-bfd7-00ca45f37d81",
   "metadata": {},
   "outputs": [
    {
     "data": {
      "image/png": "[encoded data removed]",
      "text/plain": [
       "<Figure size 640x480 with 1 Axes>"
      ]
     },
     "metadata": {},
     "output_type": "display_data"
    }
   ],
   "source": [
    "sns.boxplot(x=\"Salary\", data = data1)\n",
    "plt.show()"
   ]
  },
  {
   "cell_type": "code",
   "execution_count": 75,
   "id": "1e1f3a36-fbfe-4c80-bcb0-9e49950404fe",
   "metadata": {},
   "outputs": [],
   "source": [
    "x = data1[[\"Job Title\", \"Location\"]]  # Independent vars\n",
    "y = data1[\"Salary\"]  "
   ]
  },
  {
   "cell_type": "code",
   "execution_count": 77,
   "id": "900dfec2-c5e1-490f-a850-81879b045949",
   "metadata": {},
   "outputs": [],
   "source": [
    "categorical_features = [\"Job Title\", \"Location\"]\n",
    "\n",
    "# Transformer\n",
    "preprocessor = ColumnTransformer(\n",
    "    transformers=[\n",
    "        (\"cat\", OneHotEncoder(handle_unknown=\"ignore\"), categorical_features)\n",
    "    ]\n",
    ")"
   ]
  },
  {
   "cell_type": "code",
   "execution_count": 79,
   "id": "03d5a4b5-fcc1-41ec-a1e4-0a4149a78b70",
   "metadata": {},
   "outputs": [],
   "source": [
    "from sklearn.linear_model import LinearRegression\n",
    "from sklearn.pipeline import Pipeline\n"
   ]
  },
  {
   "cell_type": "code",
   "execution_count": 81,
   "id": "dfae2ed2-6ccc-4472-bee8-7aa70b7b7853",
   "metadata": {},
   "outputs": [],
   "source": [
    "model = Pipeline(steps=[\n",
    "    (\"preprocessor\", preprocessor),\n",
    "    (\"regressor\", LinearRegression())\n",
    "])"
   ]
  },
  {
   "cell_type": "code",
   "execution_count": 83,
   "id": "cdfff0fb-6706-4f4e-8e32-e289446cbd14",
   "metadata": {},
   "outputs": [
    {
     "data": {
      "text/html": [
       "<style>#sk-container-id-1 {color: black;background-color: white;}#sk-container-id-1 pre{padding: 0;}#sk-container-id-1 div.sk-toggleable {background-color: white;}#sk-container-id-1 label.sk-toggleable__label {cursor: pointer;display: block;width: 100%;margin-bottom: 0;padding: 0.3em;box-sizing: border-box;text-align: center;}#sk-container-id-1 label.sk-toggleable__label-arrow:before {content: \"▸\";float: left;margin-right: 0.25em;color: #696969;}#sk-container-id-1 label.sk-toggleable__label-arrow:hover:before {color: black;}#sk-container-id-1 div.sk-estimator:hover label.sk-toggleable__label-arrow:before {color: black;}#sk-container-id-1 div.sk-toggleable__content {max-height: 0;max-width: 0;overflow: hidden;text-align: left;background-color: #f0f8ff;}#sk-container-id-1 div.sk-toggleable__content pre {margin: 0.2em;color: black;border-radius: 0.25em;background-color: #f0f8ff;}#sk-container-id-1 input.sk-toggleable__control:checked~div.sk-toggleable__content {max-height: 200px;max-width: 100%;overflow: auto;}#sk-container-id-1 input.sk-toggleable__control:checked~label.sk-toggleable__label-arrow:before {content: \"▾\";}#sk-container-id-1 div.sk-estimator input.sk-toggleable__control:checked~label.sk-toggleable__label {background-color: #d4ebff;}#sk-container-id-1 div.sk-label input.sk-toggleable__control:checked~label.sk-toggleable__label {background-color: #d4ebff;}#sk-container-id-1 input.sk-hidden--visually {border: 0;clip: rect(1px 1px 1px 1px);clip: rect(1px, 1px, 1px, 1px);height: 1px;margin: -1px;overflow: hidden;padding: 0;position: absolute;width: 1px;}#sk-container-id-1 div.sk-estimator {font-family: monospace;background-color: #f0f8ff;border: 1px dotted black;border-radius: 0.25em;box-sizing: border-box;margin-bottom: 0.5em;}#sk-container-id-1 div.sk-estimator:hover {background-color: #d4ebff;}#sk-container-id-1 div.sk-parallel-item::after {content: \"\";width: 100%;border-bottom: 1px solid gray;flex-grow: 1;}#sk-container-id-1 div.sk-label:hover label.sk-toggleable__label {background-color: #d4ebff;}#sk-container-id-1 div.sk-serial::before {content: \"\";position: absolute;border-left: 1px solid gray;box-sizing: border-box;top: 0;bottom: 0;left: 50%;z-index: 0;}#sk-container-id-1 div.sk-serial {display: flex;flex-direction: column;align-items: center;background-color: white;padding-right: 0.2em;padding-left: 0.2em;position: relative;}#sk-container-id-1 div.sk-item {position: relative;z-index: 1;}#sk-container-id-1 div.sk-parallel {display: flex;align-items: stretch;justify-content: center;background-color: white;position: relative;}#sk-container-id-1 div.sk-item::before, #sk-container-id-1 div.sk-parallel-item::before {content: \"\";position: absolute;border-left: 1px solid gray;box-sizing: border-box;top: 0;bottom: 0;left: 50%;z-index: -1;}#sk-container-id-1 div.sk-parallel-item {display: flex;flex-direction: column;z-index: 1;position: relative;background-color: white;}#sk-container-id-1 div.sk-parallel-item:first-child::after {align-self: flex-end;width: 50%;}#sk-container-id-1 div.sk-parallel-item:last-child::after {align-self: flex-start;width: 50%;}#sk-container-id-1 div.sk-parallel-item:only-child::after {width: 0;}#sk-container-id-1 div.sk-dashed-wrapped {border: 1px dashed gray;margin: 0 0.4em 0.5em 0.4em;box-sizing: border-box;padding-bottom: 0.4em;background-color: white;}#sk-container-id-1 div.sk-label label {font-family: monospace;font-weight: bold;display: inline-block;line-height: 1.2em;}#sk-container-id-1 div.sk-label-container {text-align: center;}#sk-container-id-1 div.sk-container {/* jupyter's `normalize.less` sets `[hidden] { display: none; }` but bootstrap.min.css set `[hidden] { display: none !important; }` so we also need the `!important` here to be able to override the default hidden behavior on the sphinx rendered scikit-learn.org. See: https://github.com/scikit-learn/scikit-learn/issues/21755 */display: inline-block !important;position: relative;}#sk-container-id-1 div.sk-text-repr-fallback {display: none;}</style><div id=\"sk-container-id-1\" class=\"sk-top-container\"><div class=\"sk-text-repr-fallback\"><pre>Pipeline(steps=[(&#x27;preprocessor&#x27;,\n",
       "                 ColumnTransformer(transformers=[(&#x27;cat&#x27;,\n",
       "                                                  OneHotEncoder(handle_unknown=&#x27;ignore&#x27;),\n",
       "                                                  [&#x27;Job Title&#x27;, &#x27;Location&#x27;])])),\n",
       "                (&#x27;regressor&#x27;, LinearRegression())])</pre><b>In a Jupyter environment, please rerun this cell to show the HTML representation or trust the notebook. <br />On GitHub, the HTML representation is unable to render, please try loading this page with nbviewer.org.</b></div><div class=\"sk-container\" hidden><div class=\"sk-item sk-dashed-wrapped\"><div class=\"sk-label-container\"><div class=\"sk-label sk-toggleable\"><input class=\"sk-toggleable__control sk-hidden--visually\" id=\"sk-estimator-id-1\" type=\"checkbox\" ><label for=\"sk-estimator-id-1\" class=\"sk-toggleable__label sk-toggleable__label-arrow\">Pipeline</label><div class=\"sk-toggleable__content\"><pre>Pipeline(steps=[(&#x27;preprocessor&#x27;,\n",
       "                 ColumnTransformer(transformers=[(&#x27;cat&#x27;,\n",
       "                                                  OneHotEncoder(handle_unknown=&#x27;ignore&#x27;),\n",
       "                                                  [&#x27;Job Title&#x27;, &#x27;Location&#x27;])])),\n",
       "                (&#x27;regressor&#x27;, LinearRegression())])</pre></div></div></div><div class=\"sk-serial\"><div class=\"sk-item sk-dashed-wrapped\"><div class=\"sk-label-container\"><div class=\"sk-label sk-toggleable\"><input class=\"sk-toggleable__control sk-hidden--visually\" id=\"sk-estimator-id-2\" type=\"checkbox\" ><label for=\"sk-estimator-id-2\" class=\"sk-toggleable__label sk-toggleable__label-arrow\">preprocessor: ColumnTransformer</label><div class=\"sk-toggleable__content\"><pre>ColumnTransformer(transformers=[(&#x27;cat&#x27;, OneHotEncoder(handle_unknown=&#x27;ignore&#x27;),\n",
       "                                 [&#x27;Job Title&#x27;, &#x27;Location&#x27;])])</pre></div></div></div><div class=\"sk-parallel\"><div class=\"sk-parallel-item\"><div class=\"sk-item\"><div class=\"sk-label-container\"><div class=\"sk-label sk-toggleable\"><input class=\"sk-toggleable__control sk-hidden--visually\" id=\"sk-estimator-id-3\" type=\"checkbox\" ><label for=\"sk-estimator-id-3\" class=\"sk-toggleable__label sk-toggleable__label-arrow\">cat</label><div class=\"sk-toggleable__content\"><pre>[&#x27;Job Title&#x27;, &#x27;Location&#x27;]</pre></div></div></div><div class=\"sk-serial\"><div class=\"sk-item\"><div class=\"sk-estimator sk-toggleable\"><input class=\"sk-toggleable__control sk-hidden--visually\" id=\"sk-estimator-id-4\" type=\"checkbox\" ><label for=\"sk-estimator-id-4\" class=\"sk-toggleable__label sk-toggleable__label-arrow\">OneHotEncoder</label><div class=\"sk-toggleable__content\"><pre>OneHotEncoder(handle_unknown=&#x27;ignore&#x27;)</pre></div></div></div></div></div></div></div></div><div class=\"sk-item\"><div class=\"sk-estimator sk-toggleable\"><input class=\"sk-toggleable__control sk-hidden--visually\" id=\"sk-estimator-id-5\" type=\"checkbox\" ><label for=\"sk-estimator-id-5\" class=\"sk-toggleable__label sk-toggleable__label-arrow\">LinearRegression</label><div class=\"sk-toggleable__content\"><pre>LinearRegression()</pre></div></div></div></div></div></div></div>"
      ],
      "text/plain": [
       "Pipeline(steps=[('preprocessor',\n",
       "                 ColumnTransformer(transformers=[('cat',\n",
       "                                                  OneHotEncoder(handle_unknown='ignore'),\n",
       "                                                  ['Job Title', 'Location'])])),\n",
       "                ('regressor', LinearRegression())])"
      ]
     },
     "execution_count": 83,
     "metadata": {},
     "output_type": "execute_result"
    }
   ],
   "source": [
    "x_train, x_test, y_train, y_test = train_test_split(x, y, test_size=0.2, random_state=42)\n",
    "model.fit(x_train, y_train)"
   ]
  },
  {
   "cell_type": "code",
   "execution_count": 85,
   "id": "4a649ed4-32ef-4cf9-abee-e9bdc38ad412",
   "metadata": {},
   "outputs": [
    {
     "name": "stdout",
     "output_type": "stream",
     "text": [
      "Predicted salaries: [ 660503.24407176  905921.8554224   967663.77380772  967663.77380772\n",
      "  905921.8554224   967663.77380772  866448.18331654  866448.18331654\n",
      "  790040.11831803  709126.72059314  802796.28668286  891255.70880921\n",
      "  538354.76143199  802796.28668286  967663.77380772  626814.18355834\n",
      "  829513.79042389  761718.83456294  660503.24407176  761718.83456294\n",
      "  866448.18331654  967663.77380772  626814.18355834  967663.77380772\n",
      "  565072.26517302  967663.77380772  866448.18331654  829513.79042389\n",
      "  802796.28668286  761718.83456294  802796.28668286  967663.77380772\n",
      "  574222.06958853  709126.72059314  915071.65983792  525598.59306716\n",
      "  967663.77380772  915071.65983792  626814.18355834  967663.77380772\n",
      "  905921.8554224   879204.35168138  660503.24407176  915071.65983792\n",
      "  967663.77380772  626814.18355834  891255.70880921  891255.70880921\n",
      "  915071.65983792  565072.26517302  905921.8554224   761718.83456294\n",
      "  790040.11831803  538354.76143199  829513.79042389  829513.79042389\n",
      "  967663.77380772  967663.77380772  879204.35168138  879204.35168138\n",
      "  967663.77380772  761718.83456294  967663.77380772  967663.77380772\n",
      "  866448.18331654  967663.77380772  967663.77380772  574222.06958853\n",
      "  574222.06958853  538354.76143199  866448.18331654  626814.18355834\n",
      "  829513.79042389  967663.77380772  538354.76143199  761718.83456294\n",
      "  879204.35168138  829513.79042389  802796.28668286  565072.26517302\n",
      "  891255.70880921  967663.77380772  574222.06958853  967663.77380772\n",
      "  967663.77380772  967663.77380772  790040.11831803  879204.35168138\n",
      "  565072.26517302  915071.65983792  660503.24407176  879204.35168138\n",
      "  967663.77380772  967663.77380772  709126.72059314  626814.18355834\n",
      "  967663.77380772  565072.26517302  673259.4124366   538354.76143199\n",
      "  574222.06958853  967663.77380772  967663.77380772  525598.59306716\n",
      "  891255.70880921  574222.06958853  967663.77380772  967663.77380772\n",
      "  967663.77380772  761718.83456294  915071.65983792  574222.06958853\n",
      "  829513.79042389  866448.18331654  967663.77380772  802796.28668286\n",
      "  829513.79042389  891255.70880921  352455.77249248  891255.70880921\n",
      "  525598.59306716  761718.83456294 1165143.22539609  967663.77380772\n",
      "  905921.8554224   829513.79042389  891255.70880921  829513.79042389\n",
      " 1480029.68688753  967663.77380772  967663.77380772  699976.91617762\n",
      "  802796.28668286  967663.77380772  891255.70880921  829513.79042389\n",
      "  967663.77380772  829513.79042389  673259.4124366   673259.4124366\n",
      "  761718.83456294  626814.18355834  565072.26517302  626814.18355834\n",
      "  866448.18331654  352455.77249248  967663.77380772  891255.70880921\n",
      "  891255.70880921  866448.18331654  709126.72059314  761718.83456294\n",
      "  915071.65983792  967663.77380772  802796.28668286  967663.77380772\n",
      "  891255.70880921  574222.06958853  866448.18331654  915071.65983792\n",
      "  565072.26517302  525598.59306716  565072.26517302  761718.83456294\n",
      "  761718.83456294  538354.76143199  525598.59306716  626814.18355834\n",
      "  565072.26517302  967663.77380772  626814.18355834  891255.70880921\n",
      " 1480029.68688753  673259.4124366   538354.76143199  967663.77380772\n",
      "  352455.77249248  866448.18331654  761718.83456294  838663.59483941\n",
      "  915071.65983792 1138425.72165507  967663.77380772  352455.77249248\n",
      "  967663.77380772  967663.77380772  891255.70880921  891255.70880921\n",
      "  709126.72059314  761718.83456294  967663.77380772  967663.77380772\n",
      "  915071.65983792  660503.24407176  829513.79042389  905921.8554224\n",
      "  905921.8554224   574222.06958853  967663.77380772  866448.18331654\n",
      "  915071.65983792  626814.18355834  905921.8554224   967663.77380772\n",
      " 1480029.68688753  626814.18355834  879204.35168138  574222.06958853\n",
      "  525598.59306716  967663.77380772  709126.72059314  879204.35168138\n",
      "  905921.8554224   829513.79042389  866448.18331654  967663.77380772\n",
      "  565072.26517302  967663.77380772  761718.83456294  967663.77380772\n",
      "  574222.06958853  565072.26517302  525598.59306716  915071.65983792\n",
      "  967663.77380772  829513.79042389  879204.35168138  538354.76143199\n",
      "  626814.18355834  761718.83456294  891255.70880921  565072.26517302\n",
      "  802796.28668286  838663.59483941  967663.77380772  802796.28668286\n",
      "  905921.8554224   790040.11831803  838663.59483941  915071.65983792\n",
      "  802796.28668286  565072.26517302  967663.77380772  538354.76143199\n",
      "  967663.77380772  967663.77380772  761718.83456294  761718.83456294\n",
      "  838663.59483941  565072.26517302  967663.77380772  829513.79042389\n",
      "  699976.91617762  626814.18355834  790040.11831803  352455.77249248\n",
      "  866448.18331654  967663.77380772  699976.91617762  565072.26517302\n",
      "  565072.26517302  626814.18355834  565072.26517302  967663.77380772\n",
      "  967663.77380772  967663.77380772  967663.77380772  574222.06958853\n",
      "  802796.28668286  915071.65983792  574222.06958853  905921.8554224\n",
      "  967663.77380772  915071.65983792  967663.77380772  967663.77380772\n",
      "  574222.06958853  915071.65983792  626814.18355834  879204.35168138\n",
      "  866448.18331654  574222.06958853  790040.11831803  790040.11831803\n",
      "  967663.77380772  967663.77380772  967663.77380772  626814.18355834\n",
      "  538354.76143199  673259.4124366   967663.77380772  565072.26517302\n",
      "  525598.59306716  879204.35168138  838663.59483941  761718.83456294\n",
      "  790040.11831803  802796.28668286  967663.77380772  761718.83456294\n",
      "  626814.18355834  626814.18355834  626814.18355834  673259.4124366\n",
      "  866448.18331654  866448.18331654  967663.77380772  660503.24407176\n",
      "  866448.18331654  538354.76143199  967663.77380772  915071.65983792\n",
      "  967663.77380772  967663.77380772  967663.77380772  525598.59306716\n",
      "  626814.18355834  891255.70880921  967663.77380772  574222.06958853\n",
      "  879204.35168138  967663.77380772  879204.35168138  829513.79042389\n",
      "  967663.77380772  891255.70880921  905921.8554224   967663.77380772\n",
      "  967663.77380772  525598.59306716  525598.59306716  790040.11831803\n",
      "  905921.8554224   905921.8554224   838663.59483941  761718.83456294\n",
      "  866448.18331654  866448.18331654  967663.77380772  967663.77380772\n",
      "  967663.77380772 1480029.68688753  891255.70880921  565072.26517302\n",
      "  790040.11831803  967663.77380772  905921.8554224   626814.18355834\n",
      "  967663.77380772  967663.77380772  879204.35168138  790040.11831803\n",
      "  967663.77380772  565072.26517302  574222.06958853  525598.59306716\n",
      "  574222.06958853  915071.65983792  709126.72059314  565072.26517302\n",
      "  790040.11831803  761718.83456294  967663.77380772  565072.26517302\n",
      "  905921.8554224   967663.77380772  905921.8554224   879204.35168138\n",
      "  699976.91617762  352455.77249248  802796.28668286  709126.72059314\n",
      "  709126.72059314  915071.65983792  709126.72059314  967663.77380772\n",
      "  905921.8554224   352455.77249248  967663.77380772  829513.79042389\n",
      "  565072.26517302  838663.59483941  761718.83456294  967663.77380772\n",
      "  866448.18331654  967663.77380772  565072.26517302  866448.18331654\n",
      "  905921.8554224   967663.77380772  967663.77380772  699976.91617762\n",
      "  761718.83456294  967663.77380772  915071.65983792  829513.79042389\n",
      "  905921.8554224   699976.91617762  761718.83456294  967663.77380772\n",
      "  761718.83456294  626814.18355834  525598.59306716  905921.8554224\n",
      "  967663.77380772  525598.59306716  915071.65983792  967663.77380772\n",
      "  905921.8554224   538354.76143199  879204.35168138  866448.18331654\n",
      "  967663.77380772  574222.06958853  967663.77380772  891255.70880921\n",
      "  967663.77380772  879204.35168138  829513.79042389  967663.77380772\n",
      "  967663.77380772 1685502.34714736  525598.59306716  879204.35168138\n",
      "  967663.77380772  915071.65983792  879204.35168138  829513.79042389\n",
      "  967663.77380772  565072.26517302  574222.06958853  838663.59483941\n",
      "  761718.83456294  761718.83456294  525598.59306716  761718.83456294\n",
      "  967663.77380772  905921.8554224   866448.18331654  626814.18355834\n",
      "  866448.18331654  699976.91617762  607103.04004329  574222.06958853\n",
      "  967663.77380772  660503.24407176  790040.11831803  538354.76143199\n",
      "  838663.59483941  866448.18331654  565072.26517302  967663.77380772\n",
      "  802796.28668286  709126.72059314  565072.26517302  709126.72059314\n",
      "  866448.18331654  891255.70880921  905921.8554224   915071.65983792\n",
      "  761718.83456294  891255.70880921  673259.4124366   891255.70880921\n",
      "  790040.11831803  879204.35168138  967663.77380772  967663.77380772\n",
      "  967663.77380772  915071.65983792  967663.77380772  838663.59483941\n",
      "  905921.8554224   525598.59306716  626814.18355834  538354.76143199\n",
      "  673259.4124366   699976.91617762  574222.06958853  790040.11831803\n",
      "  967663.77380772  802796.28668286  673259.4124366   967663.77380772\n",
      "  891255.70880921  565072.26517302  565072.26517302  565072.26517302\n",
      "  967663.77380772  905921.8554224   709126.72059314  967663.77380772\n",
      "  891255.70880921  626814.18355834  967663.77380772  574222.06958853\n",
      "  866448.18331654  866448.18331654  626814.18355834  891255.70880921\n",
      "  967663.77380772  915071.65983792  967663.77380772  967663.77380772\n",
      "  574222.06958853 1138425.72165507  626814.18355834  967663.77380772\n",
      "  186154.76358428  699976.91617762  967663.77380772  756891.61004414\n",
      "  565072.26517302  866448.18331654  761718.83456294  751288.34569063\n",
      "  790040.11831803  525598.59306716  967663.77380772  525598.59306716\n",
      "  967663.77380772  967663.77380772  790040.11831803  660503.24407176\n",
      "  905921.8554224   829513.79042389  802796.28668286  565072.26517302\n",
      "  565072.26517302  538354.76143199  967663.77380772  967663.77380772\n",
      " 1480029.68688753  761718.83456294  802796.28668286  967663.77380772\n",
      "  891255.70880921  967663.77380772  790040.11831803  538354.76143199\n",
      "  525598.59306716  699976.91617762  761718.83456294  967663.77380772\n",
      "  967663.77380772  866448.18331654  967663.77380772  565072.26517302\n",
      "  717417.93793828  967663.77380772  967663.77380772  838663.59483941\n",
      "  838663.59483941  967663.77380772  574222.06958853  538354.76143199\n",
      "  525598.59306716  829513.79042389  802796.28668286  352455.77249248\n",
      "  660503.24407176  730174.10630312  565072.26517302  838663.59483941\n",
      "  905921.8554224   761718.83456294  525598.59306716  891255.70880921\n",
      "  967663.77380772  829513.79042389  626814.18355834  967663.77380772\n",
      "  761718.83456294  967663.77380772  761718.83456294  761718.83456294\n",
      "  967663.77380772  574222.06958853  967663.77380772  538354.76143199\n",
      "  967663.77380772  891255.70880921  709126.72059314  967663.77380772\n",
      "  866448.18331654  574222.06958853  838663.59483941  626814.18355834\n",
      "  838663.59483941  829513.79042389  866448.18331654  891255.70880921\n",
      "  756891.61004414 1480029.68688753  967663.77380772  967663.77380772\n",
      "  967663.77380772  967663.77380772  866448.18331654  967663.77380772\n",
      "  866448.18331654  525598.59306716  574222.06958853  838663.59483941\n",
      "  626814.18355834  538354.76143199  574222.06958853  879204.35168138\n",
      "  574222.06958853  967663.77380772  967663.77380772  967663.77380772\n",
      "  626814.18355834  565072.26517302  905921.8554224   967663.77380772\n",
      "  915071.65983792  673259.4124366   967663.77380772  626814.18355834\n",
      "  866448.18331654  967663.77380772  829513.79042389  967663.77380772\n",
      "  709126.72059314  967663.77380772  967663.77380772  866448.18331654\n",
      "  967663.77380772  790040.11831803  866448.18331654  709126.72059314\n",
      "  967663.77380772  565072.26517302  915071.65983792  829513.79042389\n",
      "  838663.59483941  967663.77380772  790040.11831803  565072.26517302\n",
      "  967663.77380772  891255.70880921  879204.35168138  525598.59306716\n",
      "  967663.77380772  967663.77380772  905921.8554224   626814.18355834\n",
      "  967663.77380772  967663.77380772  967663.77380772  967663.77380772\n",
      "  905921.8554224   538354.76143199  761718.83456294  866448.18331654\n",
      "  905921.8554224   565072.26517302  352455.77249248  574222.06958853\n",
      "  574222.06958853  673259.4124366   967663.77380772  967663.77380772\n",
      "  538354.76143199  538354.76143199  967663.77380772  838663.59483941\n",
      "  967663.77380772  967663.77380772  538354.76143199  761718.83456294\n",
      "  866448.18331654  761718.83456294  790040.11831803  905921.8554224\n",
      "  879204.35168138  699976.91617762  967663.77380772  879204.35168138\n",
      "  626814.18355834  967663.77380772  967663.77380772  879204.35168138\n",
      "  967663.77380772  525598.59306716  802796.28668286  879204.35168138\n",
      "  525598.59306716  891255.70880921  967663.77380772  967663.77380772\n",
      "  967663.77380772  967663.77380772  905921.8554224   866448.18331654\n",
      "  879204.35168138  525598.59306716  565072.26517302  660503.24407176\n",
      "  709126.72059314  626814.18355834  967663.77380772  574222.06958853\n",
      "  967663.77380772  967663.77380772  761718.83456294 1480029.68688753\n",
      "  866448.18331654  915071.65983792  967663.77380772  905921.8554224\n",
      "  699976.91617762 1138425.72165507  967663.77380772  838663.59483941\n",
      "  891255.70880921  905921.8554224   565072.26517302  967663.77380772\n",
      "  538354.76143199  866448.18331654  699976.91617762  915071.65983792\n",
      "  709126.72059314  673259.4124366   626814.18355834  967663.77380772\n",
      "  626814.18355834  538354.76143199  829513.79042389  866448.18331654\n",
      "  574222.06958853  538354.76143199  967663.77380772  967663.77380772\n",
      "  891255.70880921  879204.35168138  352455.77249248  967663.77380772\n",
      "  915071.65983792  574222.06958853  967663.77380772  967663.77380772\n",
      "  967663.77380772  967663.77380772  761718.83456294  967663.77380772\n",
      "  790040.11831803  905921.8554224   915071.65983792  538354.76143199\n",
      "  699976.91617762  838663.59483941  838663.59483941  967663.77380772\n",
      "  967663.77380772  574222.06958853  699976.91617762  866448.18331654\n",
      "  915071.65983792  866448.18331654  967663.77380772  709126.72059314\n",
      "  802796.28668286  829513.79042389  525598.59306716  538354.76143199\n",
      "  866448.18331654  790040.11831803  915071.65983792  565072.26517302\n",
      "  829513.79042389  565072.26517302  838663.59483941 1480029.68688753\n",
      "  838663.59483941  525598.59306716  525598.59306716  967663.77380772\n",
      "  905921.8554224   626814.18355834  866448.18331654  802796.28668286\n",
      "  709126.72059314  802796.28668286  538354.76143199  565072.26517302\n",
      "  829513.79042389  891255.70880921  829513.79042389  891255.70880921\n",
      "  967663.77380772  879204.35168138  802796.28668286  626814.18355834\n",
      "  538354.76143199  905921.8554224   709126.72059314  915071.65983792\n",
      "  879204.35168138  709126.72059314  967663.77380772  967663.77380772\n",
      "  538354.76143199  761718.83456294  967663.77380772  565072.26517302\n",
      "  761718.83456294  829513.79042389  574222.06958853  574222.06958853\n",
      "  538354.76143199  565072.26517302  967663.77380772  905921.8554224\n",
      "  709126.72059314 1480029.68688753  565072.26517302  761718.83456294\n",
      "  905921.8554224   574222.06958853  626814.18355834  525598.59306716\n",
      "  879204.35168138  709126.72059314  699976.91617762  967663.77380772]\n"
     ]
    }
   ],
   "source": [
    "# Predict on test set\n",
    "y_pred = model.predict(x_test)\n",
    "\n",
    "print(\"Predicted salaries:\", y_pred)\n"
   ]
  },
  {
   "cell_type": "code",
   "execution_count": 103,
   "id": "a4cb5161-d546-482b-99c2-65f18a91b3d6",
   "metadata": {},
   "outputs": [
    {
     "ename": "ValueError",
     "evalue": "X does not contain any features, but ColumnTransformer is expecting 2 features",
     "output_type": "error",
     "traceback": [
      "\u001b[1;31m---------------------------------------------------------------------------\u001b[0m",
      "\u001b[1;31mTypeError\u001b[0m                                 Traceback (most recent call last)",
      "File \u001b[1;32m~\\anaconda3\\Lib\\site-packages\\sklearn\\base.py:366\u001b[0m, in \u001b[0;36mBaseEstimator._check_n_features\u001b[1;34m(self, X, reset)\u001b[0m\n\u001b[0;32m    365\u001b[0m \u001b[38;5;28;01mtry\u001b[39;00m:\n\u001b[1;32m--> 366\u001b[0m     n_features \u001b[38;5;241m=\u001b[39m _num_features(X)\n\u001b[0;32m    367\u001b[0m \u001b[38;5;28;01mexcept\u001b[39;00m \u001b[38;5;167;01mTypeError\u001b[39;00m \u001b[38;5;28;01mas\u001b[39;00m e:\n",
      "File \u001b[1;32m~\\anaconda3\\Lib\\site-packages\\sklearn\\utils\\validation.py:301\u001b[0m, in \u001b[0;36m_num_features\u001b[1;34m(X)\u001b[0m\n\u001b[0;32m    300\u001b[0m     message \u001b[38;5;241m+\u001b[39m\u001b[38;5;241m=\u001b[39m \u001b[38;5;124mf\u001b[39m\u001b[38;5;124m\"\u001b[39m\u001b[38;5;124m with shape \u001b[39m\u001b[38;5;132;01m{\u001b[39;00mX\u001b[38;5;241m.\u001b[39mshape\u001b[38;5;132;01m}\u001b[39;00m\u001b[38;5;124m\"\u001b[39m\n\u001b[1;32m--> 301\u001b[0m     \u001b[38;5;28;01mraise\u001b[39;00m \u001b[38;5;167;01mTypeError\u001b[39;00m(message)\n\u001b[0;32m    302\u001b[0m \u001b[38;5;28;01mreturn\u001b[39;00m X\u001b[38;5;241m.\u001b[39mshape[\u001b[38;5;241m1\u001b[39m]\n",
      "\u001b[1;31mTypeError\u001b[0m: Unable to find the number of features from X of type numpy.ndarray with shape (828,)",
      "\nThe above exception was the direct cause of the following exception:\n",
      "\u001b[1;31mValueError\u001b[0m                                Traceback (most recent call last)",
      "Cell \u001b[1;32mIn[103], line 1\u001b[0m\n\u001b[1;32m----> 1\u001b[0m model\u001b[38;5;241m.\u001b[39mscore(y_pred, y_test)\n",
      "File \u001b[1;32m~\\anaconda3\\Lib\\site-packages\\sklearn\\pipeline.py:718\u001b[0m, in \u001b[0;36mPipeline.score\u001b[1;34m(self, X, y, sample_weight)\u001b[0m\n\u001b[0;32m    716\u001b[0m Xt \u001b[38;5;241m=\u001b[39m X\n\u001b[0;32m    717\u001b[0m \u001b[38;5;28;01mfor\u001b[39;00m _, name, transform \u001b[38;5;129;01min\u001b[39;00m \u001b[38;5;28mself\u001b[39m\u001b[38;5;241m.\u001b[39m_iter(with_final\u001b[38;5;241m=\u001b[39m\u001b[38;5;28;01mFalse\u001b[39;00m):\n\u001b[1;32m--> 718\u001b[0m     Xt \u001b[38;5;241m=\u001b[39m transform\u001b[38;5;241m.\u001b[39mtransform(Xt)\n\u001b[0;32m    719\u001b[0m score_params \u001b[38;5;241m=\u001b[39m {}\n\u001b[0;32m    720\u001b[0m \u001b[38;5;28;01mif\u001b[39;00m sample_weight \u001b[38;5;129;01mis\u001b[39;00m \u001b[38;5;129;01mnot\u001b[39;00m \u001b[38;5;28;01mNone\u001b[39;00m:\n",
      "File \u001b[1;32m~\\anaconda3\\Lib\\site-packages\\sklearn\\utils\\_set_output.py:140\u001b[0m, in \u001b[0;36m_wrap_method_output.<locals>.wrapped\u001b[1;34m(self, X, *args, **kwargs)\u001b[0m\n\u001b[0;32m    138\u001b[0m \u001b[38;5;129m@wraps\u001b[39m(f)\n\u001b[0;32m    139\u001b[0m \u001b[38;5;28;01mdef\u001b[39;00m \u001b[38;5;21mwrapped\u001b[39m(\u001b[38;5;28mself\u001b[39m, X, \u001b[38;5;241m*\u001b[39margs, \u001b[38;5;241m*\u001b[39m\u001b[38;5;241m*\u001b[39mkwargs):\n\u001b[1;32m--> 140\u001b[0m     data_to_wrap \u001b[38;5;241m=\u001b[39m f(\u001b[38;5;28mself\u001b[39m, X, \u001b[38;5;241m*\u001b[39margs, \u001b[38;5;241m*\u001b[39m\u001b[38;5;241m*\u001b[39mkwargs)\n\u001b[0;32m    141\u001b[0m     \u001b[38;5;28;01mif\u001b[39;00m \u001b[38;5;28misinstance\u001b[39m(data_to_wrap, \u001b[38;5;28mtuple\u001b[39m):\n\u001b[0;32m    142\u001b[0m         \u001b[38;5;66;03m# only wrap the first output for cross decomposition\u001b[39;00m\n\u001b[0;32m    143\u001b[0m         \u001b[38;5;28;01mreturn\u001b[39;00m (\n\u001b[0;32m    144\u001b[0m             _wrap_data_with_container(method, data_to_wrap[\u001b[38;5;241m0\u001b[39m], X, \u001b[38;5;28mself\u001b[39m),\n\u001b[0;32m    145\u001b[0m             \u001b[38;5;241m*\u001b[39mdata_to_wrap[\u001b[38;5;241m1\u001b[39m:],\n\u001b[0;32m    146\u001b[0m         )\n",
      "File \u001b[1;32m~\\anaconda3\\Lib\\site-packages\\sklearn\\compose\\_column_transformer.py:798\u001b[0m, in \u001b[0;36mColumnTransformer.transform\u001b[1;34m(self, X)\u001b[0m\n\u001b[0;32m    794\u001b[0m         \u001b[38;5;28;01mraise\u001b[39;00m \u001b[38;5;167;01mValueError\u001b[39;00m(\u001b[38;5;124mf\u001b[39m\u001b[38;5;124m\"\u001b[39m\u001b[38;5;124mcolumns are missing: \u001b[39m\u001b[38;5;132;01m{\u001b[39;00mdiff\u001b[38;5;132;01m}\u001b[39;00m\u001b[38;5;124m\"\u001b[39m)\n\u001b[0;32m    795\u001b[0m \u001b[38;5;28;01melse\u001b[39;00m:\n\u001b[0;32m    796\u001b[0m     \u001b[38;5;66;03m# ndarray was used for fitting or transforming, thus we only\u001b[39;00m\n\u001b[0;32m    797\u001b[0m     \u001b[38;5;66;03m# check that n_features_in_ is consistent\u001b[39;00m\n\u001b[1;32m--> 798\u001b[0m     \u001b[38;5;28mself\u001b[39m\u001b[38;5;241m.\u001b[39m_check_n_features(X, reset\u001b[38;5;241m=\u001b[39m\u001b[38;5;28;01mFalse\u001b[39;00m)\n\u001b[0;32m    800\u001b[0m Xs \u001b[38;5;241m=\u001b[39m \u001b[38;5;28mself\u001b[39m\u001b[38;5;241m.\u001b[39m_fit_transform(\n\u001b[0;32m    801\u001b[0m     X,\n\u001b[0;32m    802\u001b[0m     \u001b[38;5;28;01mNone\u001b[39;00m,\n\u001b[1;32m   (...)\u001b[0m\n\u001b[0;32m    805\u001b[0m     column_as_strings\u001b[38;5;241m=\u001b[39mfit_dataframe_and_transform_dataframe,\n\u001b[0;32m    806\u001b[0m )\n\u001b[0;32m    807\u001b[0m \u001b[38;5;28mself\u001b[39m\u001b[38;5;241m.\u001b[39m_validate_output(Xs)\n",
      "File \u001b[1;32m~\\anaconda3\\Lib\\site-packages\\sklearn\\base.py:369\u001b[0m, in \u001b[0;36mBaseEstimator._check_n_features\u001b[1;34m(self, X, reset)\u001b[0m\n\u001b[0;32m    367\u001b[0m \u001b[38;5;28;01mexcept\u001b[39;00m \u001b[38;5;167;01mTypeError\u001b[39;00m \u001b[38;5;28;01mas\u001b[39;00m e:\n\u001b[0;32m    368\u001b[0m     \u001b[38;5;28;01mif\u001b[39;00m \u001b[38;5;129;01mnot\u001b[39;00m reset \u001b[38;5;129;01mand\u001b[39;00m \u001b[38;5;28mhasattr\u001b[39m(\u001b[38;5;28mself\u001b[39m, \u001b[38;5;124m\"\u001b[39m\u001b[38;5;124mn_features_in_\u001b[39m\u001b[38;5;124m\"\u001b[39m):\n\u001b[1;32m--> 369\u001b[0m         \u001b[38;5;28;01mraise\u001b[39;00m \u001b[38;5;167;01mValueError\u001b[39;00m(\n\u001b[0;32m    370\u001b[0m             \u001b[38;5;124m\"\u001b[39m\u001b[38;5;124mX does not contain any features, but \u001b[39m\u001b[38;5;124m\"\u001b[39m\n\u001b[0;32m    371\u001b[0m             \u001b[38;5;124mf\u001b[39m\u001b[38;5;124m\"\u001b[39m\u001b[38;5;132;01m{\u001b[39;00m\u001b[38;5;28mself\u001b[39m\u001b[38;5;241m.\u001b[39m\u001b[38;5;18m__class__\u001b[39m\u001b[38;5;241m.\u001b[39m\u001b[38;5;18m__name__\u001b[39m\u001b[38;5;132;01m}\u001b[39;00m\u001b[38;5;124m is expecting \u001b[39m\u001b[38;5;124m\"\u001b[39m\n\u001b[0;32m    372\u001b[0m             \u001b[38;5;124mf\u001b[39m\u001b[38;5;124m\"\u001b[39m\u001b[38;5;132;01m{\u001b[39;00m\u001b[38;5;28mself\u001b[39m\u001b[38;5;241m.\u001b[39mn_features_in_\u001b[38;5;132;01m}\u001b[39;00m\u001b[38;5;124m features\u001b[39m\u001b[38;5;124m\"\u001b[39m\n\u001b[0;32m    373\u001b[0m         ) \u001b[38;5;28;01mfrom\u001b[39;00m \u001b[38;5;21;01me\u001b[39;00m\n\u001b[0;32m    374\u001b[0m     \u001b[38;5;66;03m# If the number of features is not defined and reset=True,\u001b[39;00m\n\u001b[0;32m    375\u001b[0m     \u001b[38;5;66;03m# then we skip this check\u001b[39;00m\n\u001b[0;32m    376\u001b[0m     \u001b[38;5;28;01mreturn\u001b[39;00m\n",
      "\u001b[1;31mValueError\u001b[0m: X does not contain any features, but ColumnTransformer is expecting 2 features"
     ]
    }
   ],
   "source": [
    "model.score(y_pred, y_test)"
   ]
  },
  {
   "cell_type": "code",
   "execution_count": 87,
   "id": "5f933710-4a4a-44a3-9fd0-1772bfeaa924",
   "metadata": {},
   "outputs": [
    {
     "name": "stdout",
     "output_type": "stream",
     "text": [
      "MAE: 372533.9689077191\n",
      "MSE: 218120305240.15143\n",
      "RMSE: 467033.51618502865\n",
      "R²: 0.14230321925164024\n"
     ]
    }
   ],
   "source": [
    "from sklearn.metrics import mean_absolute_error, mean_squared_error, r2_score\n",
    "import numpy as np\n",
    "\n",
    "mae = mean_absolute_error(y_test, y_pred)\n",
    "mse = mean_squared_error(y_test, y_pred)\n",
    "rmse = np.sqrt(mse)\n",
    "r2 = r2_score(y_test, y_pred)\n",
    "\n",
    "print(\"MAE:\", mae)\n",
    "print(\"MSE:\", mse)\n",
    "print(\"RMSE:\", rmse)\n",
    "print(\"R²:\", r2)\n"
   ]
  },
  {
   "cell_type": "code",
   "execution_count": 105,
   "id": "88bcead4-9e84-43fe-ad2f-7c03d5c73cc7",
   "metadata": {},
   "outputs": [
    {
     "name": "stdout",
     "output_type": "stream",
     "text": [
      "Predicted Salary: [866448.18331654]\n"
     ]
    }
   ],
   "source": [
    "z = pd.DataFrame({\"Job Title\": [\"Data Scientist\"], \"Location\": [\"Pune\"]})\n",
    "print(\"Predicted Salary:\", model.predict(z))"
   ]
  },
  {
   "cell_type": "code",
   "execution_count": null,
   "id": "4976f0be-3f77-47a5-80b0-21cb0b413faf",
   "metadata": {},
   "outputs": [],
   "source": []
  }
 ],
 "metadata": {
  "kernelspec": {
   "display_name": "Python 3 (ipykernel)",
   "language": "python",
   "name": "python3"
  },
  "language_info": {
   "codemirror_mode": {
    "name": "ipython",
    "version": 3
   },
   "file_extension": ".py",
   "mimetype": "text/x-python",
   "name": "python",
   "nbconvert_exporter": "python",
   "pygments_lexer": "ipython3",
   "version": "3.11.7"
  }
 },
 "nbformat": 4,
 "nbformat_minor": 5
}
